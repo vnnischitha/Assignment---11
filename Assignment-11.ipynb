{
 "cells": [
  {
   "cell_type": "code",
   "execution_count": 28,
   "metadata": {},
   "outputs": [
    {
     "name": "stdout",
     "output_type": "stream",
     "text": [
      "1st Year\n"
     ]
    }
   ],
   "source": [
    "#program to append text to a file and display the text\n",
    "file = open(\"Text.txt\",\"a\")\n",
    "file.write(\"1st Year\")\n",
    "file.close()\n",
    "file1 = open(\"Text.txt\",\"r\")\n",
    "print(file1.read())"
   ]
  },
  {
   "cell_type": "code",
   "execution_count": 38,
   "metadata": {},
   "outputs": [
    {
     "name": "stdout",
     "output_type": "stream",
     "text": [
      "1st Year\n",
      "\n",
      "\n"
     ]
    }
   ],
   "source": [
    " #program to read first n lines of a file\n",
    "file = open(\"Text.txt\")\n",
    "print(file.readline())\n",
    "print(file.readline())\n",
    "print(file.readline())"
   ]
  },
  {
   "cell_type": "code",
   "execution_count": 47,
   "metadata": {},
   "outputs": [
    {
     "name": "stdout",
     "output_type": "stream",
     "text": [
      "1st Year\n"
     ]
    }
   ],
   "source": [
    " #program to read last n lines of a file\n",
    "file=open(\"Text.txt\")\n",
    "for line in (file.readlines() [-3:]):\n",
    "    print(line)"
   ]
  },
  {
   "cell_type": "code",
   "execution_count": 54,
   "metadata": {},
   "outputs": [
    {
     "name": "stdout",
     "output_type": "stream",
     "text": [
      "1st Year \n"
     ]
    }
   ],
   "source": [
    "#program to read a file line by line store it into a variablefile=open(\"Text.txt\")\n",
    "file = open(\"Text.txt\")\n",
    "a=file.readline()\n",
    "b=file.readline()\n",
    "print(a,b)"
   ]
  },
  {
   "cell_type": "code",
   "execution_count": 60,
   "metadata": {},
   "outputs": [
    {
     "name": "stdout",
     "output_type": "stream",
     "text": [
      "['1st Year']\n"
     ]
    }
   ],
   "source": [
    "#program to read a file line by line and store it into a list file = open(\"Text.txt\")\n",
    "file = open(\"Text.txt\")\n",
    "a=file.readlines()\n",
    "print(a)"
   ]
  },
  {
   "cell_type": "code",
   "execution_count": 64,
   "metadata": {},
   "outputs": [
    {
     "name": "stdout",
     "output_type": "stream",
     "text": [
      "['1st Year']\n"
     ]
    }
   ],
   "source": [
    " #program to read a file line by line and store it into a list   \n",
    "file = open(\"Text.txt\")\n",
    "a=[]\n",
    "for line in file:\n",
    "    a.append(line)\n",
    "print(a)"
   ]
  },
  {
   "cell_type": "code",
   "execution_count": 67,
   "metadata": {},
   "outputs": [
    {
     "name": "stdout",
     "output_type": "stream",
     "text": [
      "Lines= 1\n"
     ]
    }
   ],
   "source": [
    " #program to count the number of lines in a text file\n",
    "file=open(\"Text.txt\")\n",
    "count=0\n",
    "for line in file:\n",
    "    count=count+1\n",
    "print(\"Lines=\",count)"
   ]
  },
  {
   "cell_type": "code",
   "execution_count": 70,
   "metadata": {},
   "outputs": [
    {
     "name": "stdout",
     "output_type": "stream",
     "text": [
      "Size Of Text,txt File In Bytes Is= 8\n"
     ]
    }
   ],
   "source": [
    " #program to get the file size of a plain file\n",
    "import os\n",
    "size=os.path.getsize(\"Text.txt\")\n",
    "print(\"Size Of Text,txt File In Bytes Is=\",size)"
   ]
  },
  {
   "cell_type": "code",
   "execution_count": 74,
   "metadata": {},
   "outputs": [
    {
     "name": "stdout",
     "output_type": "stream",
     "text": [
      "1st Year\n"
     ]
    }
   ],
   "source": [
    "#program to copy the contents of a file to another file\n",
    "import shutil\n",
    "shutil.copy('Text.txt', 'Text-copy.txt')\n",
    "file=open(\"Text-copy.txt\")\n",
    "print(file.read())"
   ]
  },
  {
   "cell_type": "code",
   "execution_count": 81,
   "metadata": {},
   "outputs": [
    {
     "name": "stdout",
     "output_type": "stream",
     "text": [
      "1st Year\n"
     ]
    }
   ],
   "source": [
    " #program to read an entire text file\n",
    "fh=open(\"Text.txt\")\n",
    "print(fh.read())"
   ]
  }
 ],
 "metadata": {
  "kernelspec": {
   "display_name": "Python 3",
   "language": "python",
   "name": "python3"
  },
  "language_info": {
   "codemirror_mode": {
    "name": "ipython",
    "version": 3
   },
   "file_extension": ".py",
   "mimetype": "text/x-python",
   "name": "python",
   "nbconvert_exporter": "python",
   "pygments_lexer": "ipython3",
   "version": "3.8.3"
  }
 },
 "nbformat": 4,
 "nbformat_minor": 4
}
